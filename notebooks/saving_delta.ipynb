{
 "cells": [
  {
   "cell_type": "code",
   "execution_count": 1,
   "id": "209cb834",
   "metadata": {},
   "outputs": [],
   "source": [
    "import pyspark\n",
    "import pyspark.sql.functions as F\n",
    "import time, shutil, os\n",
    "import pandas as pd"
   ]
  },
  {
   "cell_type": "code",
   "execution_count": 2,
   "id": "2742bd34",
   "metadata": {},
   "outputs": [],
   "source": [
    "\n",
    "cwd = os.getcwd()\n",
    "parent_dir = os.path.dirname(cwd)\n",
    "os.chdir(parent_dir)"
   ]
  },
  {
   "cell_type": "code",
   "execution_count": null,
   "id": "10bddaea",
   "metadata": {},
   "outputs": [
    {
     "name": "stderr",
     "output_type": "stream",
     "text": [
      "25/06/17 22:39:32 WARN Utils: Your hostname, quero-Inspiron-15-3520 resolves to a loopback address: 127.0.1.1; using 192.168.15.151 instead (on interface wlp2s0)\n",
      "25/06/17 22:39:32 WARN Utils: Set SPARK_LOCAL_IP if you need to bind to another address\n"
     ]
    },
    {
     "name": "stdout",
     "output_type": "stream",
     "text": [
      ":: loading settings :: url = jar:file:/home/eric-yoshida/pyspark-env/lib/python3.12/site-packages/pyspark/jars/ivy-2.5.1.jar!/org/apache/ivy/core/settings/ivysettings.xml\n"
     ]
    },
    {
     "name": "stderr",
     "output_type": "stream",
     "text": [
      "Ivy Default Cache set to: /home/eric-yoshida/.ivy2/cache\n",
      "The jars for the packages stored in: /home/eric-yoshida/.ivy2/jars\n",
      "io.delta#delta-spark_2.12 added as a dependency\n",
      ":: resolving dependencies :: org.apache.spark#spark-submit-parent-aa5f8d0f-d924-400f-b373-aee7de46f216;1.0\n",
      "\tconfs: [default]\n",
      "\tfound io.delta#delta-spark_2.12;3.3.2 in central\n",
      "\tfound io.delta#delta-storage;3.3.2 in central\n",
      "\tfound org.antlr#antlr4-runtime;4.9.3 in central\n",
      ":: resolution report :: resolve 121ms :: artifacts dl 4ms\n",
      "\t:: modules in use:\n",
      "\tio.delta#delta-spark_2.12;3.3.2 from central in [default]\n",
      "\tio.delta#delta-storage;3.3.2 from central in [default]\n",
      "\torg.antlr#antlr4-runtime;4.9.3 from central in [default]\n",
      "\t---------------------------------------------------------------------\n",
      "\t|                  |            modules            ||   artifacts   |\n",
      "\t|       conf       | number| search|dwnlded|evicted|| number|dwnlded|\n",
      "\t---------------------------------------------------------------------\n",
      "\t|      default     |   3   |   0   |   0   |   0   ||   3   |   0   |\n",
      "\t---------------------------------------------------------------------\n",
      ":: retrieving :: org.apache.spark#spark-submit-parent-aa5f8d0f-d924-400f-b373-aee7de46f216\n",
      "\tconfs: [default]\n",
      "\t0 artifacts copied, 3 already retrieved (0kB/5ms)\n",
      "25/06/17 22:39:33 WARN NativeCodeLoader: Unable to load native-hadoop library for your platform... using builtin-java classes where applicable\n",
      "Setting default log level to \"WARN\".\n",
      "To adjust logging level use sc.setLogLevel(newLevel). For SparkR, use setLogLevel(newLevel).\n"
     ]
    }
   ],
   "source": [
    "from pyspark.sql import SparkSession\n",
    "from delta import configure_spark_with_delta_pip\n",
    "\n",
    "builder = (\n",
    "    SparkSession.builder \n",
    "    .master(\"local[6]\")\n",
    "    .appName(\"delta\")\n",
    "    .config(\"spark.driver.memory\", \"13g\")\n",
    "    .config(\"spark.jars.packages\",\n",
    "            \"io.delta:delta-core_2.12:3.3.2\")\n",
    "    .config(\"spark.sql.extensions\", \"io.delta.sql.DeltaSparkSessionExtension\")\n",
    "    .config(\"spark.sql.catalog.spark_catalog\",\n",
    "            \"org.apache.spark.sql.delta.catalog.DeltaCatalog\")\n",
    ")\n",
    "\n",
    "spark = configure_spark_with_delta_pip(builder).getOrCreate()"
   ]
  },
  {
   "cell_type": "code",
   "execution_count": 4,
   "id": "757a100f",
   "metadata": {},
   "outputs": [
    {
     "name": "stderr",
     "output_type": "stream",
     "text": [
      "                                                                                \r"
     ]
    }
   ],
   "source": [
    "data_path = \"./data/processed/\"\n",
    "\n",
    "united_df = spark.read.json(data_path + \"united_df.json\")"
   ]
  },
  {
   "cell_type": "code",
   "execution_count": 5,
   "id": "6d4c88d2",
   "metadata": {},
   "outputs": [
    {
     "data": {
      "text/html": [
       "<div>\n",
       "<style scoped>\n",
       "    .dataframe tbody tr th:only-of-type {\n",
       "        vertical-align: middle;\n",
       "    }\n",
       "\n",
       "    .dataframe tbody tr th {\n",
       "        vertical-align: top;\n",
       "    }\n",
       "\n",
       "    .dataframe thead th {\n",
       "        text-align: right;\n",
       "    }\n",
       "</style>\n",
       "<table border=\"1\" class=\"dataframe\">\n",
       "  <thead>\n",
       "    <tr style=\"text-align: right;\">\n",
       "      <th></th>\n",
       "      <th>asin</th>\n",
       "      <th>image</th>\n",
       "      <th>overall</th>\n",
       "      <th>reviewText</th>\n",
       "      <th>reviewTime</th>\n",
       "      <th>reviewerID</th>\n",
       "      <th>reviewerName</th>\n",
       "      <th>style</th>\n",
       "      <th>summary</th>\n",
       "      <th>unixReviewTime</th>\n",
       "      <th>verified</th>\n",
       "      <th>vote</th>\n",
       "    </tr>\n",
       "  </thead>\n",
       "  <tbody>\n",
       "    <tr>\n",
       "      <th>0</th>\n",
       "      <td>B000FA5KK0</td>\n",
       "      <td>None</td>\n",
       "      <td>4.0</td>\n",
       "      <td>pretty good story, a little exaggerated, but I...</td>\n",
       "      <td>07 3, 2014</td>\n",
       "      <td>A2LSKD2H9U8N0J</td>\n",
       "      <td>sandra sue marsolek</td>\n",
       "      <td>Kindle Edition</td>\n",
       "      <td>pretty good story</td>\n",
       "      <td>1404345600</td>\n",
       "      <td>True</td>\n",
       "      <td>None</td>\n",
       "    </tr>\n",
       "    <tr>\n",
       "      <th>1</th>\n",
       "      <td>B000FA5KK0</td>\n",
       "      <td>None</td>\n",
       "      <td>5.0</td>\n",
       "      <td>If you've read other max brand westerns, you k...</td>\n",
       "      <td>05 26, 2014</td>\n",
       "      <td>A2QP13XTJND1QS</td>\n",
       "      <td>Tpl</td>\n",
       "      <td>Kindle Edition</td>\n",
       "      <td>A very good book</td>\n",
       "      <td>1401062400</td>\n",
       "      <td>True</td>\n",
       "      <td>None</td>\n",
       "    </tr>\n",
       "    <tr>\n",
       "      <th>2</th>\n",
       "      <td>B000FA5KK0</td>\n",
       "      <td>None</td>\n",
       "      <td>5.0</td>\n",
       "      <td>Love Max, always a fun twist</td>\n",
       "      <td>09 16, 2016</td>\n",
       "      <td>A8WQ7MAG3HFOZ</td>\n",
       "      <td>Alverne F. Anderson</td>\n",
       "      <td>Kindle Edition</td>\n",
       "      <td>Five Stars</td>\n",
       "      <td>1473984000</td>\n",
       "      <td>True</td>\n",
       "      <td>None</td>\n",
       "    </tr>\n",
       "    <tr>\n",
       "      <th>3</th>\n",
       "      <td>B000FA5KK0</td>\n",
       "      <td>None</td>\n",
       "      <td>5.0</td>\n",
       "      <td>As usual for him, a good book</td>\n",
       "      <td>03 3, 2016</td>\n",
       "      <td>A1E0MODSRYP7O</td>\n",
       "      <td>Jeff</td>\n",
       "      <td>Kindle Edition</td>\n",
       "      <td>a good</td>\n",
       "      <td>1456963200</td>\n",
       "      <td>True</td>\n",
       "      <td>None</td>\n",
       "    </tr>\n",
       "    <tr>\n",
       "      <th>4</th>\n",
       "      <td>B000FA5KK0</td>\n",
       "      <td>None</td>\n",
       "      <td>5.0</td>\n",
       "      <td>MB is one of the original western writers and ...</td>\n",
       "      <td>09 10, 2015</td>\n",
       "      <td>AYUTCGVSM1H7T</td>\n",
       "      <td>DEHS - EddyRapcon</td>\n",
       "      <td>Kindle Edition</td>\n",
       "      <td>A Western</td>\n",
       "      <td>1441843200</td>\n",
       "      <td>True</td>\n",
       "      <td>2</td>\n",
       "    </tr>\n",
       "    <tr>\n",
       "      <th>5</th>\n",
       "      <td>B000FA5KK0</td>\n",
       "      <td>None</td>\n",
       "      <td>5.0</td>\n",
       "      <td>great book</td>\n",
       "      <td>06 14, 2015</td>\n",
       "      <td>A9DXGM6YGV14D</td>\n",
       "      <td>Linda DeWachter</td>\n",
       "      <td>Kindle Edition</td>\n",
       "      <td>Five Stars</td>\n",
       "      <td>1434240000</td>\n",
       "      <td>True</td>\n",
       "      <td>None</td>\n",
       "    </tr>\n",
       "    <tr>\n",
       "      <th>6</th>\n",
       "      <td>B000FA5KK0</td>\n",
       "      <td>None</td>\n",
       "      <td>3.0</td>\n",
       "      <td>A good, solid Western - yes, a little contrive...</td>\n",
       "      <td>06 2, 2015</td>\n",
       "      <td>A3MF8G33UKQLGL</td>\n",
       "      <td>mzbeastle</td>\n",
       "      <td>Kindle Edition</td>\n",
       "      <td>Fast read, entertaining, like a 1930s Western ...</td>\n",
       "      <td>1433203200</td>\n",
       "      <td>True</td>\n",
       "      <td>3</td>\n",
       "    </tr>\n",
       "    <tr>\n",
       "      <th>7</th>\n",
       "      <td>B000FA5KK0</td>\n",
       "      <td>None</td>\n",
       "      <td>4.0</td>\n",
       "      <td>ALMOST BEEN TOO LONG SINCE I READ IT. GOOD REA...</td>\n",
       "      <td>05 3, 2015</td>\n",
       "      <td>A12AIK6DSUF1EW</td>\n",
       "      <td>R. DAVIS</td>\n",
       "      <td>Kindle Edition</td>\n",
       "      <td>ANOTHER GOOD WESTERN</td>\n",
       "      <td>1430611200</td>\n",
       "      <td>True</td>\n",
       "      <td>None</td>\n",
       "    </tr>\n",
       "    <tr>\n",
       "      <th>8</th>\n",
       "      <td>B000FA5KK0</td>\n",
       "      <td>None</td>\n",
       "      <td>5.0</td>\n",
       "      <td>Enjoyed this book and will read more from this...</td>\n",
       "      <td>02 2, 2015</td>\n",
       "      <td>A2RW1CXT3XSLXW</td>\n",
       "      <td>Barbara Rigsby</td>\n",
       "      <td>Kindle Edition</td>\n",
       "      <td>Good</td>\n",
       "      <td>1422835200</td>\n",
       "      <td>True</td>\n",
       "      <td>None</td>\n",
       "    </tr>\n",
       "    <tr>\n",
       "      <th>9</th>\n",
       "      <td>B000FA5KK0</td>\n",
       "      <td>None</td>\n",
       "      <td>4.0</td>\n",
       "      <td>A very good read for you Western fans.  Great ...</td>\n",
       "      <td>12 19, 2014</td>\n",
       "      <td>A2ID7H6SRK5XS0</td>\n",
       "      <td>Richard Johnson</td>\n",
       "      <td>Kindle Edition</td>\n",
       "      <td>Get it</td>\n",
       "      <td>1418947200</td>\n",
       "      <td>True</td>\n",
       "      <td>None</td>\n",
       "    </tr>\n",
       "  </tbody>\n",
       "</table>\n",
       "</div>"
      ],
      "text/plain": [
       "         asin image  overall  \\\n",
       "0  B000FA5KK0  None      4.0   \n",
       "1  B000FA5KK0  None      5.0   \n",
       "2  B000FA5KK0  None      5.0   \n",
       "3  B000FA5KK0  None      5.0   \n",
       "4  B000FA5KK0  None      5.0   \n",
       "5  B000FA5KK0  None      5.0   \n",
       "6  B000FA5KK0  None      3.0   \n",
       "7  B000FA5KK0  None      4.0   \n",
       "8  B000FA5KK0  None      5.0   \n",
       "9  B000FA5KK0  None      4.0   \n",
       "\n",
       "                                          reviewText   reviewTime  \\\n",
       "0  pretty good story, a little exaggerated, but I...   07 3, 2014   \n",
       "1  If you've read other max brand westerns, you k...  05 26, 2014   \n",
       "2                       Love Max, always a fun twist  09 16, 2016   \n",
       "3                      As usual for him, a good book   03 3, 2016   \n",
       "4  MB is one of the original western writers and ...  09 10, 2015   \n",
       "5                                         great book  06 14, 2015   \n",
       "6  A good, solid Western - yes, a little contrive...   06 2, 2015   \n",
       "7  ALMOST BEEN TOO LONG SINCE I READ IT. GOOD REA...   05 3, 2015   \n",
       "8  Enjoyed this book and will read more from this...   02 2, 2015   \n",
       "9  A very good read for you Western fans.  Great ...  12 19, 2014   \n",
       "\n",
       "       reviewerID         reviewerName            style  \\\n",
       "0  A2LSKD2H9U8N0J  sandra sue marsolek   Kindle Edition   \n",
       "1  A2QP13XTJND1QS                  Tpl   Kindle Edition   \n",
       "2   A8WQ7MAG3HFOZ  Alverne F. Anderson   Kindle Edition   \n",
       "3   A1E0MODSRYP7O                 Jeff   Kindle Edition   \n",
       "4   AYUTCGVSM1H7T    DEHS - EddyRapcon   Kindle Edition   \n",
       "5   A9DXGM6YGV14D      Linda DeWachter   Kindle Edition   \n",
       "6  A3MF8G33UKQLGL            mzbeastle   Kindle Edition   \n",
       "7  A12AIK6DSUF1EW             R. DAVIS   Kindle Edition   \n",
       "8  A2RW1CXT3XSLXW       Barbara Rigsby   Kindle Edition   \n",
       "9  A2ID7H6SRK5XS0      Richard Johnson   Kindle Edition   \n",
       "\n",
       "                                             summary  unixReviewTime  \\\n",
       "0                                  pretty good story      1404345600   \n",
       "1                                   A very good book      1401062400   \n",
       "2                                         Five Stars      1473984000   \n",
       "3                                             a good      1456963200   \n",
       "4                                          A Western      1441843200   \n",
       "5                                         Five Stars      1434240000   \n",
       "6  Fast read, entertaining, like a 1930s Western ...      1433203200   \n",
       "7                               ANOTHER GOOD WESTERN      1430611200   \n",
       "8                                               Good      1422835200   \n",
       "9                                             Get it      1418947200   \n",
       "\n",
       "   verified  vote  \n",
       "0      True  None  \n",
       "1      True  None  \n",
       "2      True  None  \n",
       "3      True  None  \n",
       "4      True     2  \n",
       "5      True  None  \n",
       "6      True     3  \n",
       "7      True  None  \n",
       "8      True  None  \n",
       "9      True  None  "
      ]
     },
     "execution_count": 5,
     "metadata": {},
     "output_type": "execute_result"
    }
   ],
   "source": [
    "united_df.limit(10).toPandas()"
   ]
  },
  {
   "cell_type": "code",
   "execution_count": 6,
   "id": "8fc1911a",
   "metadata": {},
   "outputs": [
    {
     "name": "stderr",
     "output_type": "stream",
     "text": [
      "25/06/17 22:40:04 WARN SparkStringUtils: Truncated the string representation of a plan since it was too large. This behavior can be adjusted by setting 'spark.sql.debug.maxToStringFields'.\n",
      "[Stage 5:==============================>                          (27 + 8) / 50]\r"
     ]
    },
    {
     "name": "stdout",
     "output_type": "stream",
     "text": [
      "Time taken to write Delta table: 23.49 seconds\n"
     ]
    },
    {
     "name": "stderr",
     "output_type": "stream",
     "text": [
      "                                                                                \r"
     ]
    }
   ],
   "source": [
    "delta_path = \"./data/delta/united_data\"\n",
    "\n",
    "start_time = time.time()\n",
    "\n",
    "united_df.write.format(\"delta\").mode(\"overwrite\").option(\"overwriteSchema\", \"True\").save(delta_path)\n",
    "\n",
    "time_taken = time.time() - start_time\n",
    "\n",
    "print(f\"Time taken to write Delta table: {time_taken:.2f} seconds\")"
   ]
  },
  {
   "cell_type": "code",
   "execution_count": 7,
   "id": "850c0d84",
   "metadata": {},
   "outputs": [],
   "source": [
    "def get_folder_size(path):\n",
    "    total_size = 0\n",
    "    for dirpath, dirnames, filenames in os.walk(path):\n",
    "        for f in filenames:\n",
    "            fp = os.path.join(dirpath, f)\n",
    "            if os.path.isfile(fp):\n",
    "                total_size += os.path.getsize(fp)\n",
    "    return total_size"
   ]
  },
  {
   "cell_type": "code",
   "execution_count": 8,
   "id": "1a869731",
   "metadata": {},
   "outputs": [
    {
     "name": "stdout",
     "output_type": "stream",
     "text": [
      "Tamanho real da tabela Delta: 1819.30 MB\n"
     ]
    }
   ],
   "source": [
    "folder_size_bytes = get_folder_size(delta_path)\n",
    "folder_size_mb = folder_size_bytes / (1024 * 1024)\n",
    "\n",
    "print(f\"Tamanho real da tabela Delta: {folder_size_mb:.2f} MB\")"
   ]
  },
  {
   "cell_type": "code",
   "execution_count": 9,
   "id": "fe43ea12",
   "metadata": {},
   "outputs": [
    {
     "name": "stderr",
     "output_type": "stream",
     "text": [
      "                                                                                \r"
     ]
    }
   ],
   "source": [
    "from pyspark.sql import Row\n",
    "\n",
    "data = [\n",
    "    Row(\n",
    "        experiment_name=\"delta_1\",\n",
    "        file_size=folder_size_mb,\n",
    "        time_taken=time_taken\n",
    "    )\n",
    "]\n",
    "\n",
    "experiment_df = spark.createDataFrame(data)\n",
    "experiment_df.write.mode(\"append\").json(\"./data/processed/experiments.json\")"
   ]
  }
 ],
 "metadata": {
  "kernelspec": {
   "display_name": "pyspark-env",
   "language": "python",
   "name": "python3"
  },
  "language_info": {
   "codemirror_mode": {
    "name": "ipython",
    "version": 3
   },
   "file_extension": ".py",
   "mimetype": "text/x-python",
   "name": "python",
   "nbconvert_exporter": "python",
   "pygments_lexer": "ipython3",
   "version": "3.12.7"
  }
 },
 "nbformat": 4,
 "nbformat_minor": 5
}
